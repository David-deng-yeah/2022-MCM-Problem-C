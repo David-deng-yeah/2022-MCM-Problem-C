{
 "cells": [
  {
   "cell_type": "code",
   "execution_count": 144,
   "metadata": {},
   "outputs": [],
   "source": [
    "from math import sqrt\n",
    "from numpy import concatenate\n",
    "from matplotlib import pyplot\n",
    "from pandas import read_csv\n",
    "from pandas import DataFrame\n",
    "from pandas import concat\n",
    "from sklearn.preprocessing import MinMaxScaler\n",
    "from sklearn.preprocessing import LabelEncoder\n",
    "from sklearn.metrics import mean_squared_error\n",
    "from keras.models import Sequential\n",
    "from keras.layers import Dense\n",
    "from keras.layers import LSTM\n",
    "import pandas as pd\n",
    "import numpy as np\n",
    "from scipy import io\n",
    "import matplotlib.ticker as ticker\n",
    "pyplot.style.use('seaborn')"
   ]
  },
  {
   "cell_type": "code",
   "execution_count": 145,
   "metadata": {},
   "outputs": [],
   "source": [
    "def series_to_supervised(data, n_in=1, n_out=1, dropnan=True):\n",
    "    n_vars = 1 if type(data) is list else data.shape[1]\n",
    "    df = DataFrame(data)\n",
    "    cols, names = [], []\n",
    "    #i: n_in, n_in-1, ..., 1，为滞后期数\n",
    "    #分别代表t-n_in, ... ,t-1期\n",
    "    for i in range(n_in, 0, -1):\n",
    "        cols.append(df.shift(i))\n",
    "        names += [('var%d(t-%d)' % (j+1, i)) for j in range(n_vars)]\n",
    "    #i: 0, 1, ..., n_out-1，为超前预测的期数\n",
    "    #分别代表t，t+1， ... ,t+n_out-1期\n",
    "    for i in range(0, n_out):\n",
    "        cols.append(df.shift(-i))\n",
    "        if i == 0:\n",
    "            names += [('var%d(t)' % (j+1)) for j in range(n_vars)]\n",
    "        else:\n",
    "            names += [('var%d(t+%d)' % (j+1, i)) for j in range(n_vars)]\n",
    "    agg = concat(cols, axis=1)\n",
    "    agg.columns = names\n",
    "    if dropnan:\n",
    "        agg.dropna(inplace=True)\n",
    "    return agg"
   ]
  },
  {
   "cell_type": "code",
   "execution_count": 146,
   "metadata": {},
   "outputs": [],
   "source": [
    "def prepare_data(filepath, n_in, n_out=30, n_vars=4, train_proportion=0.8):\n",
    "    #读取数据集\n",
    "    df = read_csv(filepath, index_col=0)\n",
    "    dataset = df.iloc[:, 1:]\n",
    "    values = dataset.values\n",
    "    #保证所有数据都是float32类型\n",
    "    values = values.astype('float32')\n",
    "    #变量归一化\n",
    "    scaler = MinMaxScaler(feature_range=(0, 1))\n",
    "    scaled = scaler.fit_transform(values)\n",
    "    #将时间序列问题转化为监督学习问题\n",
    "    reframed = series_to_supervised(scaled, n_in, n_out) #1807*500, dropna之后变少了, 500=n_vars*(n_in+n_out)=25*(10+10)\n",
    "    #取出保留的变量\n",
    "    contain_vars = []\n",
    "    # [n_in x n_vars](10*25=250)个特征\n",
    "    for i in range(1, n_in+1):\n",
    "        contain_vars += [('var%d(t-%d)' % (j, i)) for j in range(1,n_vars+1)]\n",
    "    # 再加上 [n_out]个预测的变量  \n",
    "    data = reframed [ contain_vars + ['var1(t)'] + [('var1(t+%d)' % (j)) for j in range(1,n_out)]]\n",
    "    #修改列名\n",
    "    # col_names = ['Y', 'X1', 'X2', 'X3']\n",
    "    col_names = ['Y'] + ['X'+str(i) for i in range(1, n_vars)]\n",
    "    contain_vars = []\n",
    "    for i in range(n_vars):\n",
    "        contain_vars += [('%s(t-%d)' % (col_names[i], j)) for j in range(1,n_in+1)]  \n",
    "    data.columns = contain_vars +  ['Y(t)'] + [('Y(t+%d)' % (j)) for j in range(1,n_out)]\n",
    "    #分隔数据集，分为训练集和测试集 0.8的切分率\n",
    "    values = data.values\n",
    "    n_train = round(data.shape[0]*train_proportion)\n",
    "    # 暂时使用-------------------------------------------------\n",
    "    if train_proportion > 1:\n",
    "        n_train = train_proportion\n",
    "    train = values[:n_train, :]\n",
    "    test = values[n_train:, :]\n",
    "    #分割输入X和输出y\n",
    "    train_X, train_y = train[:, :n_in*n_vars], train[:, n_in*n_vars:]\n",
    "    test_X, test_y = test[:, :n_in*n_vars], test[:, n_in*n_vars:]\n",
    "    #将输入X改造为LSTM的输入格式，即[samples,timesteps,features]\n",
    "    train_X = train_X.reshape((train_X.shape[0], n_in, n_vars))\n",
    "    test_X = test_X.reshape((test_X.shape[0], n_in, n_vars))\n",
    "    return scaler, data, train_X, train_y, test_X, test_y, dataset"
   ]
  },
  {
   "cell_type": "code",
   "execution_count": 147,
   "metadata": {},
   "outputs": [],
   "source": [
    "def fit_lstm(data_prepare, n_neurons=50, n_batch=72, n_epoch=100, loss='mae', optimizer='adam', repeats=1):\n",
    "    train_X = data_prepare[2]\n",
    "    train_y = data_prepare[3]\n",
    "    test_X = data_prepare[4]\n",
    "    test_y = data_prepare[5]\n",
    "    model_list = []\n",
    "    loss_list = []\n",
    "    val_loss_list = []\n",
    "    for i in range(repeats):\n",
    "        print('training mode : ', i)\n",
    "        #设计神经网络\n",
    "        model = Sequential()\n",
    "        model.add(LSTM(n_neurons, input_shape=(train_X.shape[1], train_X.shape[2])))\n",
    "        model.add(Dense(train_y.shape[1]))\n",
    "        model.compile(loss=loss, optimizer=optimizer)\n",
    "        #拟合神经网络\n",
    "        history = model.fit(train_X, train_y, epochs=n_epoch, batch_size=n_batch, validation_data=(test_X, test_y), verbose=0, shuffle=False)\n",
    "        #画出学习过程\n",
    "        # p1 = pyplot.plot(history.history['loss'], color = 'blue', label='train')\n",
    "        # p2 = pyplot.plot(history.history['val_loss'], color = 'red', label='test')\n",
    "        loss_list.append(history.history['loss'])\n",
    "        val_loss_list.append(history.history['val_loss'])\n",
    "        #保存model\n",
    "        model_list.append(model)\n",
    "    train_loss = np.array(loss_list)\n",
    "    val_loss = np.array(val_loss_list)\n",
    "    train_mean = np.mean(train_loss, axis=0)\n",
    "    train_std = np.std(train_loss, axis=0)\n",
    "    val_mean = np.mean(val_loss, axis=0)\n",
    "    val_std = np.std(val_loss, axis=0)\n",
    "    x_list = range(len(loss_list[0]))\n",
    "\n",
    "    pyplot.figure(figsize=[12,8])\n",
    "    pyplot.plot(x_list, train_mean, color = 'blue', label='train')\n",
    "    pyplot.fill_between(x_list, train_mean+train_std, train_mean-train_std, alpha=0.15,color='blue')\n",
    "    pyplot.plot(x_list, val_mean, color = 'red', label='train')\n",
    "    pyplot.fill_between(x_list, val_mean+val_std, val_mean-val_std, alpha=0.15,color='red')\n",
    "    pyplot.legend([\"train\",\"test\"])\n",
    "    pyplot.show()\n",
    "    return model_list"
   ]
  },
  {
   "cell_type": "code",
   "execution_count": 148,
   "metadata": {},
   "outputs": [],
   "source": [
    "def lstm_predict(model, data_prepare):\n",
    "    scaler = data_prepare[0]\n",
    "    test_X = data_prepare[4]\n",
    "    test_y = data_prepare[5]\n",
    "    #做出预测\n",
    "    yhat = model.predict(test_X)\n",
    "    #将测试集上的预测值还原为原来的数据维度\n",
    "    scale_new = MinMaxScaler()\n",
    "    scale_new.min_, scale_new.scale_ = scaler.min_[0], scaler.scale_[0]\n",
    "    inv_yhat = scale_new.inverse_transform(yhat)\n",
    "    #将测试集上的实际值还原为原来的数据维度\n",
    "    inv_y = scale_new.inverse_transform(test_y)\n",
    "    return inv_yhat, inv_y"
   ]
  },
  {
   "cell_type": "code",
   "execution_count": 149,
   "metadata": {},
   "outputs": [],
   "source": [
    "# 计算每一步预测的RMSE\n",
    "def evaluate_forecasts(test, forecasts, n_out):\n",
    "    rmse_dic = {}\n",
    "    for i in range(n_out):\n",
    "        actual = [float(row[i]) for row in test]\n",
    "        predicted = [float(forecast[i]) for forecast in forecasts]\n",
    "        rmse = sqrt(mean_squared_error(actual, predicted))\n",
    "        rmse_dic['t+' + str(i+1) + ' RMSE'] = rmse\n",
    "    return rmse_dic"
   ]
  },
  {
   "cell_type": "code",
   "execution_count": 150,
   "metadata": {},
   "outputs": [],
   "source": [
    "# #以原始数据为背景画出预测数据\n",
    "# def plot_forecasts(series, forecasts):\n",
    "#     #用蓝色画出原始数据集\n",
    "#     pyplot.figure(figsize=[12, 8])\n",
    "#     pyplot.plot(series.values, label = 'real', color='royalblue')\n",
    "#     forecasts = forecasts.flatten()[:, np.newaxis]\n",
    "#     np.insert(forecasts, 0, forecasts[0][0])\n",
    "#     pyplot.plot(forecasts, label='forecast', color = 'orange')\n",
    "#     pyplot.xlabel('Date')\n",
    "#     pyplot.ylabel('loss')\n",
    "#     pyplot.show()"
   ]
  },
  {
   "cell_type": "code",
   "execution_count": 151,
   "metadata": {},
   "outputs": [],
   "source": [
    "#以原始数据为背景画出预测数据\n",
    "def plot_forecasts(series, forecasts):\n",
    "    forecasts = forecasts.flatten()[:, np.newaxis]\n",
    "    np.insert(forecasts, 0, forecasts[0][0])\n",
    "    #用蓝色画出原始数据集\n",
    "    fig = pyplot.figure(figsize=[12, 8])\n",
    "    ax = fig.add_subplot(111)\n",
    "    ax.plot(series.values, label = 'real', color = 'royalblue')\n",
    "    ax.plot(forecasts, label = 'forecast', color='orange')\n",
    "    # 设置坐标轴格式\n",
    "    def format_date(x, pos=None):\n",
    "        x = x+1025\n",
    "        if x < 0 or x > len(date_range):\n",
    "            return ''\n",
    "        return date_range[int(x)]\n",
    "    ax.xaxis.set_major_formatter(ticker.FuncFormatter(format_date))\n",
    "    pyplot.legend()\n",
    "    pyplot.setp(pyplot.gca().get_xticklabels(), rotation=45, horizontalalignment='right')\n",
    "    pyplot.ylabel('prices')\n",
    "    pyplot.show()"
   ]
  },
  {
   "cell_type": "code",
   "execution_count": 152,
   "metadata": {},
   "outputs": [],
   "source": [
    "# 日期\n",
    "date_range = pd.read_csv('../data/gold_complete.csv', index_col=0)['Date'].values"
   ]
  },
  {
   "cell_type": "code",
   "execution_count": 153,
   "metadata": {},
   "outputs": [
    {
     "name": "stdout",
     "output_type": "stream",
     "text": [
      "training mode :  0\n",
      "training mode :  1\n",
      "training mode :  2\n",
      "training mode :  3\n",
      "training mode :  4\n"
     ]
    },
    {
     "data": {
      "image/png": "[encoded data removed]",
      "text/plain": [
       "<Figure size 864x576 with 1 Axes>"
      ]
     },
     "metadata": {},
     "output_type": "display_data"
    }
   ],
   "source": [
    "filepath = '../data/bitCoin_select.csv'\n",
    "n_in = 1 # 滞后期数\n",
    "n_out = 1 # 超前预测数\n",
    "n_vars = 15 # 特征个数\n",
    "n_neuron = 400 # lstm的隐藏层神经元个数\n",
    "n_batch = 72 \n",
    "n_epoch = 100\n",
    "repeats = 5 # lstm重复训练的次数\n",
    "inv_yhat_list = []\n",
    "inv_y_list = []\n",
    "\n",
    "data_prepare = prepare_data(filepath,n_in, n_out,n_vars=n_vars, train_proportion=999)\n",
    "scaler, data, train_X, train_y, test_X, test_y, dataset = data_prepare\n",
    "model_list = fit_lstm(data_prepare, n_neuron, n_batch, n_epoch,repeats=repeats)\n",
    "\n",
    "for i in range(len(model_list)):\n",
    "    model = model_list[i]\n",
    "    inv_yhat = lstm_predict(model, data_prepare)[0] # n_test x n_out\n",
    "    inv_y = lstm_predict(model, data_prepare)[1]\n",
    "    inv_yhat_list.append(inv_yhat)\n",
    "    inv_y_list.append(inv_y)"
   ]
  },
  {
   "cell_type": "code",
   "execution_count": 154,
   "metadata": {},
   "outputs": [
    {
     "data": {
      "text/html": [
       "<div>\n",
       "<style scoped>\n",
       "    .dataframe tbody tr th:only-of-type {\n",
       "        vertical-align: middle;\n",
       "    }\n",
       "\n",
       "    .dataframe tbody tr th {\n",
       "        vertical-align: top;\n",
       "    }\n",
       "\n",
       "    .dataframe thead th {\n",
       "        text-align: right;\n",
       "    }\n",
       "</style>\n",
       "<table border=\"1\" class=\"dataframe\">\n",
       "  <thead>\n",
       "    <tr style=\"text-align: right;\">\n",
       "      <th></th>\n",
       "      <th>第1次</th>\n",
       "      <th>第2次</th>\n",
       "      <th>第3次</th>\n",
       "      <th>第4次</th>\n",
       "      <th>第5次</th>\n",
       "      <th>平均</th>\n",
       "    </tr>\n",
       "  </thead>\n",
       "  <tbody>\n",
       "    <tr>\n",
       "      <th>t+1 RMSE</th>\n",
       "      <td>2604.124479</td>\n",
       "      <td>1804.964333</td>\n",
       "      <td>1658.963075</td>\n",
       "      <td>2376.065635</td>\n",
       "      <td>4110.93073</td>\n",
       "      <td>1800.297902</td>\n",
       "    </tr>\n",
       "  </tbody>\n",
       "</table>\n",
       "</div>"
      ],
      "text/plain": [
       "                  第1次          第2次          第3次          第4次         第5次  \\\n",
       "t+1 RMSE  2604.124479  1804.964333  1658.963075  2376.065635  4110.93073   \n",
       "\n",
       "                   平均  \n",
       "t+1 RMSE  1800.297902  "
      ]
     },
     "execution_count": 154,
     "metadata": {},
     "output_type": "execute_result"
    }
   ],
   "source": [
    "# 求出平均结果\n",
    "inv_yhat_ave = np.zeros(inv_y.shape)\n",
    "for i in range(repeats):\n",
    "    inv_yhat_ave += inv_yhat_list[i]\n",
    "inv_yhat_ave = inv_yhat_ave/repeats\n",
    "# 模型评价\n",
    "rmse_dic_list = []\n",
    "for i in range(len(model_list)):\n",
    "    inv_yhat = inv_yhat_list[i]\n",
    "    inv_y = inv_y_list[i]\n",
    "    rmse_dic = evaluate_forecasts(inv_y, inv_yhat, n_out)\n",
    "    rmse_dic_list.append(rmse_dic)\n",
    "\n",
    "rmse_dic_list.append(evaluate_forecasts(inv_y, inv_yhat_ave, n_out))\n",
    "\n",
    "df_dic = {}\n",
    "for i in range(len(rmse_dic_list) - 1):\n",
    "    df_dic['第' + str(i+1) + '次'] = pd.Series(rmse_dic_list[i])\n",
    "    \n",
    "df_dic['平均'] = pd.Series(rmse_dic_list[i+1])\n",
    "rmse_df = DataFrame(df_dic)\n",
    "rmse_df"
   ]
  },
  {
   "cell_type": "markdown",
   "metadata": {},
   "source": [
    "###  按步平均预测错误率结果表"
   ]
  },
  {
   "cell_type": "code",
   "execution_count": 155,
   "metadata": {},
   "outputs": [
    {
     "data": {
      "text/html": [
       "<div>\n",
       "<style scoped>\n",
       "    .dataframe tbody tr th:only-of-type {\n",
       "        vertical-align: middle;\n",
       "    }\n",
       "\n",
       "    .dataframe tbody tr th {\n",
       "        vertical-align: top;\n",
       "    }\n",
       "\n",
       "    .dataframe thead th {\n",
       "        text-align: right;\n",
       "    }\n",
       "</style>\n",
       "<table border=\"1\" class=\"dataframe\">\n",
       "  <thead>\n",
       "    <tr style=\"text-align: right;\">\n",
       "      <th></th>\n",
       "      <th>平均预测错误率</th>\n",
       "    </tr>\n",
       "  </thead>\n",
       "  <tbody>\n",
       "    <tr>\n",
       "      <th>超前1步预测</th>\n",
       "      <td>-0.021516</td>\n",
       "    </tr>\n",
       "  </tbody>\n",
       "</table>\n",
       "</div>"
      ],
      "text/plain": [
       "         平均预测错误率\n",
       "超前1步预测 -0.021516"
      ]
     },
     "execution_count": 155,
     "metadata": {},
     "output_type": "execute_result"
    }
   ],
   "source": [
    "s = inv_yhat_ave[0].shape\n",
    "erro_rate = np.zeros(s)\n",
    "for i in range(len(inv_y)):\n",
    "    erro_rate += inv_yhat_ave[i]/inv_y[i]-1\n",
    "\n",
    "erro_rate_ave = erro_rate/len(inv_y)\n",
    "err_df = DataFrame(pd.Series(erro_rate_ave))\n",
    "err_df.columns = ['平均预测错误率']\n",
    "err_df.index = ['超前%d步预测' % (i+1) for i in range(n_out)]\n",
    "err_df"
   ]
  },
  {
   "cell_type": "code",
   "execution_count": 156,
   "metadata": {},
   "outputs": [
    {
     "data": {
      "text/plain": [
       "(826, 1, 15)"
      ]
     },
     "execution_count": 156,
     "metadata": {},
     "output_type": "execute_result"
    }
   ],
   "source": [
    "test_X.shape"
   ]
  },
  {
   "cell_type": "code",
   "execution_count": 157,
   "metadata": {},
   "outputs": [
    {
     "data": {
      "text/plain": [
       "(826, 1)"
      ]
     },
     "execution_count": 157,
     "metadata": {},
     "output_type": "execute_result"
    }
   ],
   "source": [
    "inv_yhat_ave.shape"
   ]
  },
  {
   "cell_type": "markdown",
   "metadata": {},
   "source": [
    "##  可视化"
   ]
  },
  {
   "cell_type": "code",
   "execution_count": 158,
   "metadata": {},
   "outputs": [
    {
     "data": {
      "image/png": "[encoded data removed]",
      "text/plain": [
       "<Figure size 864x576 with 1 Axes>"
      ]
     },
     "metadata": {},
     "output_type": "display_data"
    }
   ],
   "source": [
    "n_real = len(dataset)-len(test_X)-len(inv_yhat[0])\n",
    "#多画一个\n",
    "y_real = DataFrame(dataset['Value'][n_real:])\n",
    "plot_forecasts(y_real, inv_yhat_ave)"
   ]
  },
  {
   "cell_type": "markdown",
   "metadata": {},
   "source": [
    "###  导出结果"
   ]
  },
  {
   "cell_type": "code",
   "execution_count": 159,
   "metadata": {},
   "outputs": [],
   "source": [
    "predict_y = pd.Series(inv_yhat_ave.flatten())\n",
    "diff_y = (predict_y.diff(1)/predict_y)\n",
    "diff_y[0]=diff_y[1]\n",
    "diff_other_model = pd.read_csv('../data/predict/r_bitCoin_forecast1001to1825.csv', index_col=0)\n",
    "diff_y = pd.DataFrame(diff_y, columns=['LSTM'])\n",
    "diff_y.index = diff_other_model.index\n",
    "diff_bitCoin = pd.concat([diff_y, diff_other_model], axis=1)"
   ]
  },
  {
   "cell_type": "code",
   "execution_count": 160,
   "metadata": {},
   "outputs": [],
   "source": [
    "# diff_bitCoin.to_csv('../data/predict/bitCoin_1000to1825_all_model.csv')"
   ]
  },
  {
   "cell_type": "code",
   "execution_count": 161,
   "metadata": {},
   "outputs": [
    {
     "data": {
      "text/plain": [
       "0.0019587915706035953"
      ]
     },
     "execution_count": 161,
     "metadata": {},
     "output_type": "execute_result"
    }
   ],
   "source": [
    "np.mean(diff_y.values)"
   ]
  },
  {
   "cell_type": "markdown",
   "metadata": {},
   "source": [
    "保存价格"
   ]
  },
  {
   "cell_type": "code",
   "execution_count": 162,
   "metadata": {},
   "outputs": [],
   "source": [
    "# df_bitcoin = pd.DataFrame(predict_y, columns=['LSTM'])\n",
    "# df_bitcoin.to_csv('../data/predict/bitCoin_price_predict.csv')\n",
    "# io.savemat('../code/matlab/bitCoin_preice.mat', {'array' : predict_y.values})"
   ]
  },
  {
   "cell_type": "markdown",
   "metadata": {},
   "source": [
    "### 预测全部时间的数据"
   ]
  },
  {
   "cell_type": "code",
   "execution_count": 163,
   "metadata": {},
   "outputs": [
    {
     "data": {
      "text/plain": [
       "(1825, 1, 15)"
      ]
     },
     "execution_count": 163,
     "metadata": {},
     "output_type": "execute_result"
    }
   ],
   "source": [
    "train_all = data.iloc[:,:-1].values\n",
    "train_all = train_all.reshape((train_all.shape[0], n_in, n_vars))\n",
    "train_all.shape"
   ]
  },
  {
   "cell_type": "code",
   "execution_count": 164,
   "metadata": {},
   "outputs": [],
   "source": [
    "y_hat_all = model.predict(train_all)\n",
    "scale_new = MinMaxScaler()\n",
    "scale_new.min_, scale_new.scale_ = scaler.min_[0], scaler.scale_[0]\n",
    "inv_yhat_all = scale_new.inverse_transform(y_hat_all)"
   ]
  },
  {
   "cell_type": "code",
   "execution_count": 165,
   "metadata": {},
   "outputs": [],
   "source": [
    "predict_y = pd.Series(inv_yhat_all.flatten())\n",
    "diff_y = (predict_y.diff(1)/predict_y)\n",
    "diff_y[0]=diff_y[1]"
   ]
  },
  {
   "cell_type": "code",
   "execution_count": 166,
   "metadata": {},
   "outputs": [
    {
     "data": {
      "text/plain": [
       "0       0.033854\n",
       "1       0.033854\n",
       "2      -0.011511\n",
       "3       0.008458\n",
       "4      -0.009617\n",
       "          ...   \n",
       "1820    0.003826\n",
       "1821    0.018858\n",
       "1822   -0.021639\n",
       "1823   -0.042262\n",
       "1824   -0.006919\n",
       "Length: 1825, dtype: float32"
      ]
     },
     "execution_count": 166,
     "metadata": {},
     "output_type": "execute_result"
    }
   ],
   "source": [
    "diff_y"
   ]
  },
  {
   "cell_type": "code",
   "execution_count": 167,
   "metadata": {},
   "outputs": [],
   "source": [
    "io.savemat('../code/matlab/bitCoin_predict_all.mat', {'bitCoin' :diff_y.values })"
   ]
  },
  {
   "cell_type": "code",
   "execution_count": 168,
   "metadata": {},
   "outputs": [],
   "source": [
    "# %目标函数 需要改成min的形式\n",
    "\n",
    "# function f=fun1(w)\n",
    "# %示例\n",
    "# w=rand(3, 1);\n",
    "# load('gold_predict_all.mat');\n",
    "# load('bitCoin_predict_all.mat');\n",
    "# r_gold = gold';\n",
    "# r_bitcoin = bitCoin';\n",
    "# r_gold = r_gold(1000:1825);\n",
    "# r_bitcoin = r_bitcoin(1000:1825);\n",
    "\n",
    "# zero=rand([length(r_gold),1])*0.0001; % 826 x 1\n",
    "# covlist = [zero r_gold r_bitcoin]; %826 x 3\n",
    "\n",
    "# mu=[0;mean(r_gold);mean(r_bitcoin)];%3*1 均值向量\n",
    "# alpha_gold = 0.01;%黄金的手续\n",
    "# alpha_b = 0.02;\n",
    "# price_gold=1788.80209960938;%黄金的价格\n",
    "# price_b = 43730.0796875000;\n",
    "# gamma =1;%风险厌恶系数\n",
    "# tc = [0; - alpha_gold * price_gold; - alpha_b * price_b;];%3*1\n",
    "# sigma = cov(covlist);    \n",
    "     \n",
    "# maxf=mu'*(w + tc) - gamma/2 * (w + tc)' * sigma * (w + tc);\n",
    "# f = -maxf;%min的形式"
   ]
  },
  {
   "cell_type": "code",
   "execution_count": 169,
   "metadata": {},
   "outputs": [],
   "source": [
    "\n",
    "# global i\n",
    "# res = zeros(800, 2);\n",
    "# for i=1:800\n",
    "#     [x,y]=fmincon('fun1',rand(3,1),[],[],[1 1 1],1,[0 0 0],[1 1 1]);\n",
    "#     res(i, 1) = x;\n",
    "#     res(i, 2) = y;\n",
    "# end"
   ]
  }
 ],
 "metadata": {
  "interpreter": {
   "hash": "038eda8c76a1951754e57bd035650513593351de2fceb436ce8ff357ea69701f"
  },
  "kernelspec": {
   "display_name": "Python 3.7.9 ('base')",
   "language": "python",
   "name": "python3"
  },
  "language_info": {
   "codemirror_mode": {
    "name": "ipython",
    "version": 3
   },
   "file_extension": ".py",
   "mimetype": "text/x-python",
   "name": "python",
   "nbconvert_exporter": "python",
   "pygments_lexer": "ipython3",
   "version": "3.7.9"
  },
  "orig_nbformat": 4
 },
 "nbformat": 4,
 "nbformat_minor": 2
}
