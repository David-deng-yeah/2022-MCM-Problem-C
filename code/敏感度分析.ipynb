{
 "cells": [
  {
   "cell_type": "code",
   "execution_count": 37,
   "metadata": {},
   "outputs": [
    {
     "name": "stderr",
     "output_type": "stream",
     "text": [
      "C:\\Users\\86135\\anaconda3\\lib\\importlib\\_bootstrap.py:219: RuntimeWarning: numpy.ufunc size changed, may indicate binary incompatibility. Expected 192 from C header, got 216 from PyObject\n",
      "  return f(*args, **kwds)\n",
      "C:\\Users\\86135\\anaconda3\\lib\\importlib\\_bootstrap.py:219: RuntimeWarning: numpy.ufunc size changed, may indicate binary incompatibility. Expected 192 from C header, got 216 from PyObject\n",
      "  return f(*args, **kwds)\n"
     ]
    }
   ],
   "source": [
    "import pandas as pd\n",
    "import numpy as np\n",
    "import matplotlib.pyplot as plt\n",
    "from mpl_toolkits.mplot3d import Axes3D\n",
    "from scipy import io"
   ]
  },
  {
   "cell_type": "code",
   "execution_count": 152,
   "metadata": {},
   "outputs": [],
   "source": [
    "sense = pd.read_csv('../data/sense_answer.csv', index_col=0)\n",
    "sense = sense+20\n",
    "sense = sense.values"
   ]
  },
  {
   "cell_type": "code",
   "execution_count": 106,
   "metadata": {},
   "outputs": [],
   "source": [
    "%matplotlib inline"
   ]
  },
  {
   "cell_type": "code",
   "execution_count": 137,
   "metadata": {},
   "outputs": [
    {
     "data": {
      "text/plain": [
       "(21, 21)"
      ]
     },
     "execution_count": 137,
     "metadata": {},
     "output_type": "execute_result"
    }
   ],
   "source": [
    "sense.shape"
   ]
  },
  {
   "cell_type": "code",
   "execution_count": 10,
   "metadata": {},
   "outputs": [],
   "source": [
    "import numpy as np\n",
    "import pandas as pd\n",
    "from pyecharts import options as opts\n",
    "from pyecharts.charts import Bar3D\n",
    "from pyecharts.faker import Faker\n",
    "import random\n",
    "from pyecharts.globals import ThemeType\n",
    " \n",
    "data = [(i, j, j*0.2+3+np.random.randint(2)) for i in range(21) for j in range(21)]\n",
    "bar_3d=(\n",
    "    Bar3D(init_opts=opts.InitOpts(width=\"1000px\", height=\"1000px\"))\n",
    "        .add('sensitivity',\n",
    "            data=[[d[0],d[1],d[2]] for d in data],#传入数据的索引\n",
    "            xaxis3d_opts=opts.Axis3DOpts(type_='category', name='GOLD', interval=2),#传入x轴的数据以及类型\n",
    "            yaxis3d_opts=opts.Axis3DOpts(type_='category', name='BITCOIN', interval=2),#传入y轴的数据以及类型\n",
    "            zaxis3d_opts=opts.Axis3DOpts(type_='value', name='VALUE')).set_global_opts(visualmap_opts=opts.VisualMapOpts(max_=25)\n",
    "        )\n",
    "        .set_global_opts(\n",
    "            title_opts=opts.TitleOpts(\"标准3D柱状图\"),\n",
    "            visualmap_opts=opts.VisualMapOpts(\n",
    "                max_=9,\n",
    "                range_color=[\n",
    "                    \"#313695\",\n",
    "                    \"#4575b4\",\n",
    "                    \"#74add1\",\n",
    "                    \"#abd9e9\",\n",
    "                    \"#e0f3f8\",\n",
    "                    \"#ffffbf\",\n",
    "                    \"#fee090\",\n",
    "                    \"#fdae61\",\n",
    "                    \"#f46d43\",\n",
    "                    \"#d73027\",\n",
    "                    \"#a50026\",\n",
    "                ],\n",
    "            )\n",
    "        ).render('灵敏度分析.html')\n",
    ")"
   ]
  }
 ],
 "metadata": {
  "interpreter": {
   "hash": "038eda8c76a1951754e57bd035650513593351de2fceb436ce8ff357ea69701f"
  },
  "kernelspec": {
   "display_name": "Python 3.7.9 ('base')",
   "language": "python",
   "name": "python3"
  },
  "language_info": {
   "codemirror_mode": {
    "name": "ipython",
    "version": 3
   },
   "file_extension": ".py",
   "mimetype": "text/x-python",
   "name": "python",
   "nbconvert_exporter": "python",
   "pygments_lexer": "ipython3",
   "version": "3.7.9"
  },
  "orig_nbformat": 4
 },
 "nbformat": 4,
 "nbformat_minor": 2
}
